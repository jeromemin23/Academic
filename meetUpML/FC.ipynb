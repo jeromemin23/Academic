{
 "cells": [
  {
   "cell_type": "code",
   "execution_count": 49,
   "metadata": {},
   "outputs": [],
   "source": [
    "import math\n",
    "import numpy as np\n",
    "import torch\n",
    "import torch.nn as nn\n",
    "import torch.optim as optim\n",
    "\n",
    "from torchvision import transforms\n",
    "from torchvision.datasets.mnist import MNIST\n",
    "from torch.utils.data.dataset import Subset\n",
    "\n",
    "from pytoune.framework import Model, ModelCheckpoint, CSVLogger\n",
    "from pytoune import torch_to_numpy\n",
    "from pytoune.layers import Flatten\n",
    "\n",
    "import matplotlib.pyplot as plt\n",
    "%matplotlib inline"
   ]
  },
  {
   "cell_type": "markdown",
   "metadata": {},
   "source": [
    "On se déclare ici un réseau de neurones très simple:\n",
    "- Simple séparateur linéaire\n",
    "- 10 neurones\n",
    "- 784 poids par neurones"
   ]
  },
  {
   "cell_type": "code",
   "execution_count": 37,
   "metadata": {},
   "outputs": [],
   "source": [
    "class Net(nn.Module):\n",
    "    def __init__(self):\n",
    "        super(Net, self).__init__()\n",
    "        self.fully_connected = nn.Linear(28 * 28, 10)\n",
    "\n",
    "    def forward(self, image):\n",
    "        # Image shape is (1, 28, 28)\n",
    "        # View turns it into (1, 784)\n",
    "        image = image.view(-1, 28 * 28)\n",
    "        output = self.fully_connected(image)\n",
    "        return output"
   ]
  },
  {
   "cell_type": "code",
   "execution_count": 38,
   "metadata": {},
   "outputs": [
    {
     "data": {
      "text/plain": [
       "Net(\n",
       "  (fully_connected): Linear(in_features=784, out_features=10, bias=True)\n",
       ")"
      ]
     },
     "execution_count": 38,
     "metadata": {},
     "output_type": "execute_result"
    }
   ],
   "source": [
    "net = Net()\n",
    "net"
   ]
  },
  {
   "cell_type": "code",
   "execution_count": 39,
   "metadata": {},
   "outputs": [],
   "source": [
    "w, b = net.parameters()"
   ]
  },
  {
   "cell_type": "code",
   "execution_count": 40,
   "metadata": {},
   "outputs": [
    {
     "data": {
      "text/plain": [
       "(Parameter containing:\n",
       " tensor([[-0.0109,  0.0271,  0.0339,  ..., -0.0201, -0.0120,  0.0302],\n",
       "         [ 0.0037,  0.0299, -0.0195,  ...,  0.0096,  0.0201, -0.0311],\n",
       "         [-0.0100,  0.0177, -0.0264,  ...,  0.0326, -0.0025,  0.0238],\n",
       "         ...,\n",
       "         [ 0.0333, -0.0176, -0.0191,  ..., -0.0095,  0.0280, -0.0354],\n",
       "         [-0.0252, -0.0156,  0.0130,  ..., -0.0174,  0.0173, -0.0241],\n",
       "         [ 0.0145,  0.0032,  0.0354,  ..., -0.0149, -0.0073,  0.0317]],\n",
       "        requires_grad=True), torch.Size([10, 784]))"
      ]
     },
     "execution_count": 40,
     "metadata": {},
     "output_type": "execute_result"
    }
   ],
   "source": [
    "w, w.shape"
   ]
  },
  {
   "cell_type": "code",
   "execution_count": 41,
   "metadata": {},
   "outputs": [
    {
     "data": {
      "text/plain": [
       "(Parameter containing:\n",
       " tensor([-0.0270,  0.0183,  0.0291,  0.0096, -0.0270,  0.0218, -0.0220, -0.0298,\n",
       "          0.0273,  0.0265], requires_grad=True), torch.Size([10]))"
      ]
     },
     "execution_count": 41,
     "metadata": {},
     "output_type": "execute_result"
    }
   ],
   "source": [
    "b, b.shape"
   ]
  },
  {
   "cell_type": "code",
   "execution_count": 42,
   "metadata": {},
   "outputs": [],
   "source": [
    "cuda_device = 0\n",
    "device = torch.device(\"cuda:%d\" % cuda_device if torch.cuda.is_available() else \"cpu\")\n",
    "train_split_percent = 0.8\n",
    "batch_size = 32\n",
    "learning_rate = 0.01\n",
    "n_epoch = 5\n",
    "num_classes = 10"
   ]
  },
  {
   "cell_type": "code",
   "execution_count": 43,
   "metadata": {},
   "outputs": [],
   "source": [
    "train_dataset = MNIST('./mnist/', train=True, download=True, transform=transforms.ToTensor())\n",
    "valid_dataset = MNIST('./mnist/', train=True, download=True, transform=transforms.ToTensor())\n",
    "test_dataset = MNIST('./mnist/', train=False, download=True, transform=transforms.ToTensor())\n",
    "\n",
    "num_data = len(train_dataset)\n",
    "indices = list(range(num_data))\n",
    "np.random.shuffle(indices)\n",
    "\n",
    "split = math.floor(train_split_percent * num_data)\n",
    "\n",
    "train_indices = indices[:split]\n",
    "train_dataset = Subset(train_dataset, train_indices)\n",
    "\n",
    "valid_indices = indices[split:]\n",
    "valid_dataset = Subset(valid_dataset, valid_indices)\n",
    "\n",
    "train_loader = torch.utils.data.DataLoader(train_dataset, batch_size=batch_size, shuffle=True)\n",
    "valid_loader = torch.utils.data.DataLoader(valid_dataset, batch_size=batch_size)\n",
    "test_loader = torch.utils.data.DataLoader(test_dataset, batch_size=batch_size)"
   ]
  },
  {
   "cell_type": "code",
   "execution_count": 44,
   "metadata": {},
   "outputs": [],
   "source": [
    "def train(name, pytorch_module):\n",
    "    # One nice feature of Pytoune is callbacks.\n",
    "    callbacks = []\n",
    "    \n",
    "    optimizer = optim.SGD(pytorch_module.parameters(), lr=learning_rate, weight_decay=0.001)\n",
    "    loss_function = nn.CrossEntropyLoss()\n",
    "\n",
    "    # Pytoune Model\n",
    "    model = Model(pytorch_module, optimizer, loss_function, metrics=['accuracy'])\n",
    "\n",
    "    # Send model on GPU\n",
    "    model.to(device)\n",
    "\n",
    "    # Train\n",
    "    model.fit_generator(train_loader, valid_loader, epochs=n_epoch, callbacks=callbacks)\n",
    "\n",
    "    # Test\n",
    "    test_loss, test_acc = model.evaluate_generator(test_loader)\n",
    "    print('Test:\\n\\tLoss: {}\\n\\tAccuracy: {}'.format(test_loss, test_acc))"
   ]
  },
  {
   "cell_type": "code",
   "execution_count": 45,
   "metadata": {},
   "outputs": [
    {
     "name": "stdout",
     "output_type": "stream",
     "text": [
      "Epoch 1/5 16.06s Step 1500/1500: loss: 0.838002, acc: 81.970833, val_loss: 0.528821, val_acc: 87.783333\n",
      "Epoch 2/5 16.52s Step 1500/1500: loss: 0.485561, acc: 87.683333, val_loss: 0.438331, val_acc: 89.125000\n",
      "Epoch 3/5 15.35s Step 1500/1500: loss: 0.426392, acc: 88.756250, val_loss: 0.401422, val_acc: 89.883333\n",
      "Epoch 4/5 13.35s Step 1500/1500: loss: 0.397059, acc: 89.291667, val_loss: 0.381339, val_acc: 90.275000\n",
      "Epoch 5/5 15.28s Step 1500/1500: loss: 0.378874, acc: 89.725000, val_loss: 0.367139, val_acc: 90.558333\n",
      "Test:\n",
      "\tLoss: 0.35133745963573454\n",
      "\tAccuracy: 90.65\n"
     ]
    }
   ],
   "source": [
    "train('fc', net)"
   ]
  },
  {
   "cell_type": "code",
   "execution_count": 47,
   "metadata": {},
   "outputs": [],
   "source": [
    "w, b = net.parameters()"
   ]
  },
  {
   "cell_type": "code",
   "execution_count": 48,
   "metadata": {},
   "outputs": [
    {
     "data": {
      "text/plain": [
       "Parameter containing:\n",
       "tensor([[-0.0101,  0.0251,  0.0314,  ..., -0.0187, -0.0111,  0.0280],\n",
       "        [ 0.0034,  0.0277, -0.0181,  ...,  0.0089,  0.0187, -0.0289],\n",
       "        [-0.0092,  0.0164, -0.0245,  ...,  0.0302, -0.0023,  0.0221],\n",
       "        ...,\n",
       "        [ 0.0309, -0.0164, -0.0177,  ..., -0.0088,  0.0260, -0.0329],\n",
       "        [-0.0234, -0.0144,  0.0120,  ..., -0.0162,  0.0161, -0.0223],\n",
       "        [ 0.0135,  0.0030,  0.0329,  ..., -0.0138, -0.0068,  0.0294]],\n",
       "       requires_grad=True)"
      ]
     },
     "execution_count": 48,
     "metadata": {},
     "output_type": "execute_result"
    }
   ],
   "source": [
    "w"
   ]
  },
  {
   "cell_type": "code",
   "execution_count": 56,
   "metadata": {},
   "outputs": [
    {
     "data": {
      "image/png": "[encoded data removed]",
      "text/plain": [
       "<matplotlib.figure.Figure at 0x7ff0ba509908>"
      ]
     },
     "metadata": {},
     "output_type": "display_data"
    }
   ],
   "source": [
    "plt.imshow(w[3].view(28, 28).data, cmap='gray_r')\n",
    "plt.axis('off')\n",
    "plt.show()"
   ]
  },
  {
   "cell_type": "code",
   "execution_count": null,
   "metadata": {},
   "outputs": [],
   "source": []
  }
 ],
 "metadata": {
  "kernelspec": {
   "display_name": "Python 3",
   "language": "python",
   "name": "python3"
  },
  "language_info": {
   "codemirror_mode": {
    "name": "ipython",
    "version": 3
   },
   "file_extension": ".py",
   "mimetype": "text/x-python",
   "name": "python",
   "nbconvert_exporter": "python",
   "pygments_lexer": "ipython3",
   "version": "3.6.7"
  }
 },
 "nbformat": 4,
 "nbformat_minor": 2
}
